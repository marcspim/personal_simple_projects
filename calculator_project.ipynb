{
  "nbformat": 4,
  "nbformat_minor": 0,
  "metadata": {
    "colab": {
      "provenance": [],
      "authorship_tag": "ABX9TyPw0Uj+LLhD+mh4GI9T/Goe",
      "include_colab_link": true
    },
    "kernelspec": {
      "name": "python3",
      "display_name": "Python 3"
    },
    "language_info": {
      "name": "python"
    },
    "widgets": {
      "application/vnd.jupyter.widget-state+json": {
        "99bc3cf9f7c44b22b221c9a0637e0bf8": {
          "model_module": "@jupyter-widgets/controls",
          "model_name": "FloatTextModel",
          "model_module_version": "1.5.0",
          "state": {
            "_dom_classes": [],
            "_model_module": "@jupyter-widgets/controls",
            "_model_module_version": "1.5.0",
            "_model_name": "FloatTextModel",
            "_view_count": null,
            "_view_module": "@jupyter-widgets/controls",
            "_view_module_version": "1.5.0",
            "_view_name": "FloatTextView",
            "continuous_update": false,
            "description": "Primeiro número:",
            "description_tooltip": null,
            "disabled": false,
            "layout": "IPY_MODEL_7eab4830a9fd4b21be9a8109fc2502e8",
            "step": 0.1,
            "style": "IPY_MODEL_d9c60dfb08c64681ac1ae95c562fd679",
            "value": 0
          }
        },
        "7eab4830a9fd4b21be9a8109fc2502e8": {
          "model_module": "@jupyter-widgets/base",
          "model_name": "LayoutModel",
          "model_module_version": "1.2.0",
          "state": {
            "_model_module": "@jupyter-widgets/base",
            "_model_module_version": "1.2.0",
            "_model_name": "LayoutModel",
            "_view_count": null,
            "_view_module": "@jupyter-widgets/base",
            "_view_module_version": "1.2.0",
            "_view_name": "LayoutView",
            "align_content": null,
            "align_items": null,
            "align_self": null,
            "border": null,
            "bottom": null,
            "display": null,
            "flex": null,
            "flex_flow": null,
            "grid_area": null,
            "grid_auto_columns": null,
            "grid_auto_flow": null,
            "grid_auto_rows": null,
            "grid_column": null,
            "grid_gap": null,
            "grid_row": null,
            "grid_template_areas": null,
            "grid_template_columns": null,
            "grid_template_rows": null,
            "height": null,
            "justify_content": null,
            "justify_items": null,
            "left": null,
            "margin": null,
            "max_height": null,
            "max_width": null,
            "min_height": null,
            "min_width": null,
            "object_fit": null,
            "object_position": null,
            "order": null,
            "overflow": null,
            "overflow_x": null,
            "overflow_y": null,
            "padding": null,
            "right": null,
            "top": null,
            "visibility": null,
            "width": null
          }
        },
        "d9c60dfb08c64681ac1ae95c562fd679": {
          "model_module": "@jupyter-widgets/controls",
          "model_name": "DescriptionStyleModel",
          "model_module_version": "1.5.0",
          "state": {
            "_model_module": "@jupyter-widgets/controls",
            "_model_module_version": "1.5.0",
            "_model_name": "DescriptionStyleModel",
            "_view_count": null,
            "_view_module": "@jupyter-widgets/base",
            "_view_module_version": "1.2.0",
            "_view_name": "StyleView",
            "description_width": ""
          }
        },
        "098a38b75a54465d972dd61ad25c7824": {
          "model_module": "@jupyter-widgets/controls",
          "model_name": "FloatTextModel",
          "model_module_version": "1.5.0",
          "state": {
            "_dom_classes": [],
            "_model_module": "@jupyter-widgets/controls",
            "_model_module_version": "1.5.0",
            "_model_name": "FloatTextModel",
            "_view_count": null,
            "_view_module": "@jupyter-widgets/controls",
            "_view_module_version": "1.5.0",
            "_view_name": "FloatTextView",
            "continuous_update": false,
            "description": "Segundo número:",
            "description_tooltip": null,
            "disabled": false,
            "layout": "IPY_MODEL_914e61d3515948a096553b604c56bf4a",
            "step": 0.1,
            "style": "IPY_MODEL_41b1cd053a084f8fb4c8558641baf7d8",
            "value": 0
          }
        },
        "914e61d3515948a096553b604c56bf4a": {
          "model_module": "@jupyter-widgets/base",
          "model_name": "LayoutModel",
          "model_module_version": "1.2.0",
          "state": {
            "_model_module": "@jupyter-widgets/base",
            "_model_module_version": "1.2.0",
            "_model_name": "LayoutModel",
            "_view_count": null,
            "_view_module": "@jupyter-widgets/base",
            "_view_module_version": "1.2.0",
            "_view_name": "LayoutView",
            "align_content": null,
            "align_items": null,
            "align_self": null,
            "border": null,
            "bottom": null,
            "display": null,
            "flex": null,
            "flex_flow": null,
            "grid_area": null,
            "grid_auto_columns": null,
            "grid_auto_flow": null,
            "grid_auto_rows": null,
            "grid_column": null,
            "grid_gap": null,
            "grid_row": null,
            "grid_template_areas": null,
            "grid_template_columns": null,
            "grid_template_rows": null,
            "height": null,
            "justify_content": null,
            "justify_items": null,
            "left": null,
            "margin": null,
            "max_height": null,
            "max_width": null,
            "min_height": null,
            "min_width": null,
            "object_fit": null,
            "object_position": null,
            "order": null,
            "overflow": null,
            "overflow_x": null,
            "overflow_y": null,
            "padding": null,
            "right": null,
            "top": null,
            "visibility": null,
            "width": null
          }
        },
        "41b1cd053a084f8fb4c8558641baf7d8": {
          "model_module": "@jupyter-widgets/controls",
          "model_name": "DescriptionStyleModel",
          "model_module_version": "1.5.0",
          "state": {
            "_model_module": "@jupyter-widgets/controls",
            "_model_module_version": "1.5.0",
            "_model_name": "DescriptionStyleModel",
            "_view_count": null,
            "_view_module": "@jupyter-widgets/base",
            "_view_module_version": "1.2.0",
            "_view_name": "StyleView",
            "description_width": ""
          }
        },
        "9aee5a37242a491baf0f478af4c88a1b": {
          "model_module": "@jupyter-widgets/controls",
          "model_name": "DropdownModel",
          "model_module_version": "1.5.0",
          "state": {
            "_dom_classes": [],
            "_model_module": "@jupyter-widgets/controls",
            "_model_module_version": "1.5.0",
            "_model_name": "DropdownModel",
            "_options_labels": [
              "1 - Soma",
              "2 - Subtração",
              "3 - Multiplicação",
              "4 - Divisão"
            ],
            "_view_count": null,
            "_view_module": "@jupyter-widgets/controls",
            "_view_module_version": "1.5.0",
            "_view_name": "DropdownView",
            "description": "Operação:",
            "description_tooltip": null,
            "disabled": false,
            "index": 0,
            "layout": "IPY_MODEL_1e6112c4f2c343ecb0b291e5e0b01f22",
            "style": "IPY_MODEL_d77c856057654d629b0dc1dfe8e8913c"
          }
        },
        "1e6112c4f2c343ecb0b291e5e0b01f22": {
          "model_module": "@jupyter-widgets/base",
          "model_name": "LayoutModel",
          "model_module_version": "1.2.0",
          "state": {
            "_model_module": "@jupyter-widgets/base",
            "_model_module_version": "1.2.0",
            "_model_name": "LayoutModel",
            "_view_count": null,
            "_view_module": "@jupyter-widgets/base",
            "_view_module_version": "1.2.0",
            "_view_name": "LayoutView",
            "align_content": null,
            "align_items": null,
            "align_self": null,
            "border": null,
            "bottom": null,
            "display": null,
            "flex": null,
            "flex_flow": null,
            "grid_area": null,
            "grid_auto_columns": null,
            "grid_auto_flow": null,
            "grid_auto_rows": null,
            "grid_column": null,
            "grid_gap": null,
            "grid_row": null,
            "grid_template_areas": null,
            "grid_template_columns": null,
            "grid_template_rows": null,
            "height": null,
            "justify_content": null,
            "justify_items": null,
            "left": null,
            "margin": null,
            "max_height": null,
            "max_width": null,
            "min_height": null,
            "min_width": null,
            "object_fit": null,
            "object_position": null,
            "order": null,
            "overflow": null,
            "overflow_x": null,
            "overflow_y": null,
            "padding": null,
            "right": null,
            "top": null,
            "visibility": null,
            "width": null
          }
        },
        "d77c856057654d629b0dc1dfe8e8913c": {
          "model_module": "@jupyter-widgets/controls",
          "model_name": "DescriptionStyleModel",
          "model_module_version": "1.5.0",
          "state": {
            "_model_module": "@jupyter-widgets/controls",
            "_model_module_version": "1.5.0",
            "_model_name": "DescriptionStyleModel",
            "_view_count": null,
            "_view_module": "@jupyter-widgets/base",
            "_view_module_version": "1.2.0",
            "_view_name": "StyleView",
            "description_width": ""
          }
        },
        "ab8087fc0305405ca831ccd02d5f52ef": {
          "model_module": "@jupyter-widgets/controls",
          "model_name": "ButtonModel",
          "model_module_version": "1.5.0",
          "state": {
            "_dom_classes": [],
            "_model_module": "@jupyter-widgets/controls",
            "_model_module_version": "1.5.0",
            "_model_name": "ButtonModel",
            "_view_count": null,
            "_view_module": "@jupyter-widgets/controls",
            "_view_module_version": "1.5.0",
            "_view_name": "ButtonView",
            "button_style": "",
            "description": "Calcular",
            "disabled": false,
            "icon": "",
            "layout": "IPY_MODEL_9b70a3a1277344259bb5f852c5d70f0c",
            "style": "IPY_MODEL_0d86253e28704d31bfa4eb81314e5cbe",
            "tooltip": ""
          }
        },
        "9b70a3a1277344259bb5f852c5d70f0c": {
          "model_module": "@jupyter-widgets/base",
          "model_name": "LayoutModel",
          "model_module_version": "1.2.0",
          "state": {
            "_model_module": "@jupyter-widgets/base",
            "_model_module_version": "1.2.0",
            "_model_name": "LayoutModel",
            "_view_count": null,
            "_view_module": "@jupyter-widgets/base",
            "_view_module_version": "1.2.0",
            "_view_name": "LayoutView",
            "align_content": null,
            "align_items": null,
            "align_self": null,
            "border": null,
            "bottom": null,
            "display": null,
            "flex": null,
            "flex_flow": null,
            "grid_area": null,
            "grid_auto_columns": null,
            "grid_auto_flow": null,
            "grid_auto_rows": null,
            "grid_column": null,
            "grid_gap": null,
            "grid_row": null,
            "grid_template_areas": null,
            "grid_template_columns": null,
            "grid_template_rows": null,
            "height": null,
            "justify_content": null,
            "justify_items": null,
            "left": null,
            "margin": null,
            "max_height": null,
            "max_width": null,
            "min_height": null,
            "min_width": null,
            "object_fit": null,
            "object_position": null,
            "order": null,
            "overflow": null,
            "overflow_x": null,
            "overflow_y": null,
            "padding": null,
            "right": null,
            "top": null,
            "visibility": null,
            "width": null
          }
        },
        "0d86253e28704d31bfa4eb81314e5cbe": {
          "model_module": "@jupyter-widgets/controls",
          "model_name": "ButtonStyleModel",
          "model_module_version": "1.5.0",
          "state": {
            "_model_module": "@jupyter-widgets/controls",
            "_model_module_version": "1.5.0",
            "_model_name": "ButtonStyleModel",
            "_view_count": null,
            "_view_module": "@jupyter-widgets/base",
            "_view_module_version": "1.2.0",
            "_view_name": "StyleView",
            "button_color": null,
            "font_weight": ""
          }
        },
        "a958a1a16dbf4f5aa9cc84fc84e71658": {
          "model_module": "@jupyter-widgets/controls",
          "model_name": "ButtonModel",
          "model_module_version": "1.5.0",
          "state": {
            "_dom_classes": [],
            "_model_module": "@jupyter-widgets/controls",
            "_model_module_version": "1.5.0",
            "_model_name": "ButtonModel",
            "_view_count": null,
            "_view_module": "@jupyter-widgets/controls",
            "_view_module_version": "1.5.0",
            "_view_name": "ButtonView",
            "button_style": "",
            "description": "Encerrar",
            "disabled": false,
            "icon": "",
            "layout": "IPY_MODEL_5580e92542e9417d9427b8b7db39ecc1",
            "style": "IPY_MODEL_ef6672d2cc524b77b39fb4b74208af22",
            "tooltip": ""
          }
        },
        "5580e92542e9417d9427b8b7db39ecc1": {
          "model_module": "@jupyter-widgets/base",
          "model_name": "LayoutModel",
          "model_module_version": "1.2.0",
          "state": {
            "_model_module": "@jupyter-widgets/base",
            "_model_module_version": "1.2.0",
            "_model_name": "LayoutModel",
            "_view_count": null,
            "_view_module": "@jupyter-widgets/base",
            "_view_module_version": "1.2.0",
            "_view_name": "LayoutView",
            "align_content": null,
            "align_items": null,
            "align_self": null,
            "border": null,
            "bottom": null,
            "display": null,
            "flex": null,
            "flex_flow": null,
            "grid_area": null,
            "grid_auto_columns": null,
            "grid_auto_flow": null,
            "grid_auto_rows": null,
            "grid_column": null,
            "grid_gap": null,
            "grid_row": null,
            "grid_template_areas": null,
            "grid_template_columns": null,
            "grid_template_rows": null,
            "height": null,
            "justify_content": null,
            "justify_items": null,
            "left": null,
            "margin": null,
            "max_height": null,
            "max_width": null,
            "min_height": null,
            "min_width": null,
            "object_fit": null,
            "object_position": null,
            "order": null,
            "overflow": null,
            "overflow_x": null,
            "overflow_y": null,
            "padding": null,
            "right": null,
            "top": null,
            "visibility": null,
            "width": null
          }
        },
        "ef6672d2cc524b77b39fb4b74208af22": {
          "model_module": "@jupyter-widgets/controls",
          "model_name": "ButtonStyleModel",
          "model_module_version": "1.5.0",
          "state": {
            "_model_module": "@jupyter-widgets/controls",
            "_model_module_version": "1.5.0",
            "_model_name": "ButtonStyleModel",
            "_view_count": null,
            "_view_module": "@jupyter-widgets/base",
            "_view_module_version": "1.2.0",
            "_view_name": "StyleView",
            "button_color": null,
            "font_weight": ""
          }
        }
      }
    }
  },
  "cells": [
    {
      "cell_type": "markdown",
      "metadata": {
        "id": "view-in-github",
        "colab_type": "text"
      },
      "source": [
        "<a href=\"https://colab.research.google.com/github/marcspim/personal_simple_projects/blob/main/calculator_project.ipynb\" target=\"_parent\"><img src=\"https://colab.research.google.com/assets/colab-badge.svg\" alt=\"Open In Colab\"/></a>"
      ]
    },
    {
      "cell_type": "code",
      "source": [
        "import ipywidgets as widgets\n",
        "from IPython.display import display\n",
        "\n",
        "# Função para realizar as operações matemáticas\n",
        "def operacao(opcao, num1, num2):\n",
        "    if opcao == 1:\n",
        "        return num1 + num2\n",
        "    elif opcao == 2:\n",
        "        return num1 - num2\n",
        "    elif opcao == 3:\n",
        "        return num1 * num2\n",
        "    elif opcao == 4:\n",
        "        if num2 == 0:  # Laço que garante que a divisão não seja feita por 0\n",
        "            return \"Divisão por zero não permitida!\"\n",
        "        return num1 / num2\n",
        "    else:\n",
        "        return \"Opção inválida!\"\n",
        "\n",
        "# Função para capturar a entrada e realizar as operações\n",
        "def calcular():\n",
        "    calcular_ativo = True  # Flag que indica se a calculadora deve continuar ativa\n",
        "\n",
        "    def mostrar_operacoes(change):\n",
        "        if calcular_ativo:  # Verifica se a calculadora está ativa\n",
        "            opcao = operacoes.value\n",
        "            num1 = num1_input.value\n",
        "            num2 = num2_input.value\n",
        "\n",
        "            # Verifica se a operação é divisão e se o segundo número é 0\n",
        "            if opcao == 4 and num2 == 0:\n",
        "                print(\"Divisão por zero não permitida!\")\n",
        "            else:\n",
        "                resultado = operacao(opcao, num1, num2)\n",
        "                print(f\"O resultado da operação é: {resultado}\")\n",
        "        else:\n",
        "            print(\"Calculadora encerrada!\")\n",
        "\n",
        "    def encerrar(change):\n",
        "        nonlocal calcular_ativo  # Modifica a variável da função externa\n",
        "        calcular_ativo = False  # Define que a calculadora não deve continuar funcionando\n",
        "        print(\"Calculadora encerrada!\")\n",
        "        display(\"Calculadora encerrada!\")  # Exibe uma mensagem de encerramento\n",
        "\n",
        "    # Widgets para capturar os números de entrada\n",
        "    num1_input = widgets.FloatText(description=\"Primeiro número:\", step=0.1)\n",
        "    num2_input = widgets.FloatText(description=\"Segundo número:\", step=0.1)\n",
        "\n",
        "    # Widget para escolher a operação\n",
        "    operacoes = widgets.Dropdown(\n",
        "        options=[(f\"{i} - {op}\", i) for i, op in enumerate([\"Soma\", \"Subtração\", \"Multiplicação\", \"Divisão\"], 1)],\n",
        "        description=\"Operação:\"\n",
        "    )\n",
        "\n",
        "    # Botão para executar a operação\n",
        "    botao_calcular = widgets.Button(description=\"Calcular\")\n",
        "\n",
        "    # Conectar o botão \"Calcular\" à função\n",
        "    botao_calcular.on_click(mostrar_operacoes)\n",
        "\n",
        "    # Botão para encerrar\n",
        "    botao_encerrar = widgets.Button(description=\"Encerrar\")\n",
        "\n",
        "    # Conectar o botão \"Encerrar\" à função de encerrar\n",
        "    botao_encerrar.on_click(encerrar)\n",
        "\n",
        "    # Exibir os widgets\n",
        "    display(num1_input, num2_input, operacoes, botao_calcular, botao_encerrar)\n",
        "\n",
        "# Chama a função para iniciar o programa\n",
        "calcular()"
      ],
      "metadata": {
        "colab": {
          "base_uri": "https://localhost:8080/",
          "height": 173,
          "referenced_widgets": [
            "99bc3cf9f7c44b22b221c9a0637e0bf8",
            "7eab4830a9fd4b21be9a8109fc2502e8",
            "d9c60dfb08c64681ac1ae95c562fd679",
            "098a38b75a54465d972dd61ad25c7824",
            "914e61d3515948a096553b604c56bf4a",
            "41b1cd053a084f8fb4c8558641baf7d8",
            "9aee5a37242a491baf0f478af4c88a1b",
            "1e6112c4f2c343ecb0b291e5e0b01f22",
            "d77c856057654d629b0dc1dfe8e8913c",
            "ab8087fc0305405ca831ccd02d5f52ef",
            "9b70a3a1277344259bb5f852c5d70f0c",
            "0d86253e28704d31bfa4eb81314e5cbe",
            "a958a1a16dbf4f5aa9cc84fc84e71658",
            "5580e92542e9417d9427b8b7db39ecc1",
            "ef6672d2cc524b77b39fb4b74208af22"
          ]
        },
        "id": "ubk-ZUQVfqDS",
        "outputId": "153ca461-18c1-426b-c005-e3a78a07396a"
      },
      "execution_count": 15,
      "outputs": [
        {
          "output_type": "display_data",
          "data": {
            "text/plain": [
              "FloatText(value=0.0, description='Primeiro número:', step=0.1)"
            ],
            "application/vnd.jupyter.widget-view+json": {
              "version_major": 2,
              "version_minor": 0,
              "model_id": "99bc3cf9f7c44b22b221c9a0637e0bf8"
            }
          },
          "metadata": {}
        },
        {
          "output_type": "display_data",
          "data": {
            "text/plain": [
              "FloatText(value=0.0, description='Segundo número:', step=0.1)"
            ],
            "application/vnd.jupyter.widget-view+json": {
              "version_major": 2,
              "version_minor": 0,
              "model_id": "098a38b75a54465d972dd61ad25c7824"
            }
          },
          "metadata": {}
        },
        {
          "output_type": "display_data",
          "data": {
            "text/plain": [
              "Dropdown(description='Operação:', options=(('1 - Soma', 1), ('2 - Subtração', 2), ('3 - Multiplicação', 3), ('…"
            ],
            "application/vnd.jupyter.widget-view+json": {
              "version_major": 2,
              "version_minor": 0,
              "model_id": "9aee5a37242a491baf0f478af4c88a1b"
            }
          },
          "metadata": {}
        },
        {
          "output_type": "display_data",
          "data": {
            "text/plain": [
              "Button(description='Calcular', style=ButtonStyle())"
            ],
            "application/vnd.jupyter.widget-view+json": {
              "version_major": 2,
              "version_minor": 0,
              "model_id": "ab8087fc0305405ca831ccd02d5f52ef"
            }
          },
          "metadata": {}
        },
        {
          "output_type": "display_data",
          "data": {
            "text/plain": [
              "Button(description='Encerrar', style=ButtonStyle())"
            ],
            "application/vnd.jupyter.widget-view+json": {
              "version_major": 2,
              "version_minor": 0,
              "model_id": "a958a1a16dbf4f5aa9cc84fc84e71658"
            }
          },
          "metadata": {}
        }
      ]
    }
  ]
}